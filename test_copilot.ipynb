{
 "cells": [
  {
   "cell_type": "code",
   "execution_count": null,
   "metadata": {},
   "outputs": [],
   "source": [
    "# you are a heatmap copilot and you are going to help me create a gis heatmap\n",
    "# you will be using the folium package to create a heatmap\n",
    "# you will be using the pandas package to read in the data\n",
    "# you will be using the numpy package to create a numpy array\n",
    "# you will be using the matplotlib package to create a color map\n",
    "# you will be using the branca package to create a color map\n",
    "# you will be using the os package to read in the data\n",
    "# you will be using the json package to read in the data\n",
    "\n",
    "# import python packages for heatmaps\n",
    "import folium\n",
    "import pandas as pd\n",
    "import numpy as np\n",
    "import matplotlib.pyplot as plt\n",
    "import branca\n",
    "import os\n",
    "import json\n",
    "\n",
    "\n",
    "# import python packages for heatmaps"
   ]
  }
 ],
 "metadata": {
  "language_info": {
   "name": "python"
  },
  "orig_nbformat": 4
 },
 "nbformat": 4,
 "nbformat_minor": 2
}
