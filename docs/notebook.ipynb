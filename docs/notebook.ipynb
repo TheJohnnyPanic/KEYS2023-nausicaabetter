{
 "cells": [
  {
   "cell_type": "code",
   "execution_count": null,
   "metadata": {},
   "outputs": [],
   "source": [
    "# Get user input\n",
    "name = input(\"Enter your name: \")\n",
    "age = input(\"Enter your age: \")\n",
    "\n",
    "# Process the inputs\n",
    "greeting = f\"Hello, {name}!\"\n",
    "birth_year = 2023 - int(age)\n",
    "\n",
    "# Display the results\n",
    "print(greeting)\n",
    "print(f\"You were born in {birth_year}.\")\n"
   ]
  }
 ],
 "metadata": {
  "language_info": {
   "name": "python"
  },
  "orig_nbformat": 4
 },
 "nbformat": 4,
 "nbformat_minor": 2
}
